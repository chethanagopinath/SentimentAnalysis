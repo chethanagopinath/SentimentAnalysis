{
 "cells": [
  {
   "cell_type": "markdown",
   "metadata": {},
   "source": [
    "# Install Packages"
   ]
  },
  {
   "cell_type": "code",
   "execution_count": 17,
   "metadata": {},
   "outputs": [
    {
     "name": "stdout",
     "output_type": "stream",
     "text": [
      "Requirement already satisfied: tweepy in ./environments/my_env/lib/python3.7/site-packages\n",
      "Requirement already satisfied: requests-oauthlib>=0.7.0 in ./environments/my_env/lib/python3.7/site-packages (from tweepy)\n",
      "Requirement already satisfied: requests>=2.11.1 in ./environments/my_env/lib/python3.7/site-packages (from tweepy)\n",
      "Requirement already satisfied: six>=1.10.0 in ./environments/my_env/lib/python3.7/site-packages (from tweepy)\n",
      "Requirement already satisfied: PySocks>=1.5.7 in ./environments/my_env/lib/python3.7/site-packages (from tweepy)\n",
      "Requirement already satisfied: oauthlib>=3.0.0 in ./environments/my_env/lib/python3.7/site-packages (from requests-oauthlib>=0.7.0->tweepy)\n",
      "Requirement already satisfied: idna<2.9,>=2.5 in ./environments/my_env/lib/python3.7/site-packages (from requests>=2.11.1->tweepy)\n",
      "Requirement already satisfied: certifi>=2017.4.17 in ./environments/my_env/lib/python3.7/site-packages (from requests>=2.11.1->tweepy)\n",
      "Requirement already satisfied: urllib3!=1.25.0,!=1.25.1,<1.26,>=1.21.1 in ./environments/my_env/lib/python3.7/site-packages (from requests>=2.11.1->tweepy)\n",
      "Requirement already satisfied: chardet<3.1.0,>=3.0.2 in ./environments/my_env/lib/python3.7/site-packages (from requests>=2.11.1->tweepy)\n",
      "Requirement already satisfied: jsonpickle in ./environments/my_env/lib/python3.7/site-packages\n",
      "Requirement already satisfied: matplotlib in ./environments/my_env/lib/python3.7/site-packages\n",
      "Requirement already satisfied: cycler>=0.10 in ./environments/my_env/lib/python3.7/site-packages (from matplotlib)\n",
      "Requirement already satisfied: python-dateutil>=2.1 in ./environments/my_env/lib/python3.7/site-packages (from matplotlib)\n",
      "Requirement already satisfied: kiwisolver>=1.0.1 in ./environments/my_env/lib/python3.7/site-packages (from matplotlib)\n",
      "Requirement already satisfied: numpy>=1.11 in ./environments/my_env/lib/python3.7/site-packages (from matplotlib)\n",
      "Requirement already satisfied: pyparsing!=2.0.4,!=2.1.2,!=2.1.6,>=2.0.1 in ./environments/my_env/lib/python3.7/site-packages (from matplotlib)\n",
      "Requirement already satisfied: six in ./environments/my_env/lib/python3.7/site-packages (from cycler>=0.10->matplotlib)\n",
      "Requirement already satisfied: setuptools in ./environments/my_env/lib/python3.7/site-packages (from kiwisolver>=1.0.1->matplotlib)\n",
      "Requirement already satisfied: seaborn in ./environments/my_env/lib/python3.7/site-packages\n",
      "Requirement already satisfied: matplotlib>=1.4.3 in ./environments/my_env/lib/python3.7/site-packages (from seaborn)\n",
      "Requirement already satisfied: scipy>=0.14.0 in ./environments/my_env/lib/python3.7/site-packages (from seaborn)\n",
      "Requirement already satisfied: pandas>=0.15.2 in ./environments/my_env/lib/python3.7/site-packages (from seaborn)\n",
      "Requirement already satisfied: numpy>=1.9.3 in ./environments/my_env/lib/python3.7/site-packages (from seaborn)\n",
      "Requirement already satisfied: python-dateutil>=2.1 in ./environments/my_env/lib/python3.7/site-packages (from matplotlib>=1.4.3->seaborn)\n",
      "Requirement already satisfied: cycler>=0.10 in ./environments/my_env/lib/python3.7/site-packages (from matplotlib>=1.4.3->seaborn)\n",
      "Requirement already satisfied: kiwisolver>=1.0.1 in ./environments/my_env/lib/python3.7/site-packages (from matplotlib>=1.4.3->seaborn)\n",
      "Requirement already satisfied: pyparsing!=2.0.4,!=2.1.2,!=2.1.6,>=2.0.1 in ./environments/my_env/lib/python3.7/site-packages (from matplotlib>=1.4.3->seaborn)\n",
      "Requirement already satisfied: pytz>=2017.2 in ./environments/my_env/lib/python3.7/site-packages (from pandas>=0.15.2->seaborn)\n",
      "Requirement already satisfied: six>=1.5 in ./environments/my_env/lib/python3.7/site-packages (from python-dateutil>=2.1->matplotlib>=1.4.3->seaborn)\n",
      "Requirement already satisfied: setuptools in ./environments/my_env/lib/python3.7/site-packages (from kiwisolver>=1.0.1->matplotlib>=1.4.3->seaborn)\n",
      "Requirement already satisfied: emoji in ./environments/my_env/lib/python3.7/site-packages\n",
      "Requirement already satisfied: bs4 in ./environments/my_env/lib/python3.7/site-packages\n",
      "Requirement already satisfied: beautifulsoup4 in ./environments/my_env/lib/python3.7/site-packages (from bs4)\n",
      "Requirement already satisfied: soupsieve>=1.2 in ./environments/my_env/lib/python3.7/site-packages (from beautifulsoup4->bs4)\n",
      "Requirement already satisfied: googletrans in ./environments/my_env/lib/python3.7/site-packages\n",
      "Requirement already satisfied: requests in ./environments/my_env/lib/python3.7/site-packages (from googletrans)\n",
      "Requirement already satisfied: certifi>=2017.4.17 in ./environments/my_env/lib/python3.7/site-packages (from requests->googletrans)\n",
      "Requirement already satisfied: chardet<3.1.0,>=3.0.2 in ./environments/my_env/lib/python3.7/site-packages (from requests->googletrans)\n",
      "Requirement already satisfied: urllib3!=1.25.0,!=1.25.1,<1.26,>=1.21.1 in ./environments/my_env/lib/python3.7/site-packages (from requests->googletrans)\n",
      "Requirement already satisfied: idna<2.9,>=2.5 in ./environments/my_env/lib/python3.7/site-packages (from requests->googletrans)\n",
      "Requirement already satisfied: textblob in ./environments/my_env/lib/python3.7/site-packages\n",
      "Requirement already satisfied: nltk>=3.1 in ./environments/my_env/lib/python3.7/site-packages (from textblob)\n",
      "Requirement already satisfied: six in ./environments/my_env/lib/python3.7/site-packages (from nltk>=3.1->textblob)\n",
      "Requirement already satisfied: pymongo in ./environments/my_env/lib/python3.7/site-packages\n",
      "Requirement already satisfied: nltk in ./environments/my_env/lib/python3.7/site-packages\n",
      "Requirement already satisfied: six in ./environments/my_env/lib/python3.7/site-packages (from nltk)\n",
      "Requirement already satisfied: jsonpickle in ./environments/my_env/lib/python3.7/site-packages\n",
      "Requirement already satisfied: pandas in ./environments/my_env/lib/python3.7/site-packages\n",
      "Requirement already satisfied: numpy>=1.13.3 in ./environments/my_env/lib/python3.7/site-packages (from pandas)\n",
      "Requirement already satisfied: pytz>=2017.2 in ./environments/my_env/lib/python3.7/site-packages (from pandas)\n",
      "Requirement already satisfied: python-dateutil>=2.6.1 in ./environments/my_env/lib/python3.7/site-packages (from pandas)\n",
      "Requirement already satisfied: six>=1.5 in ./environments/my_env/lib/python3.7/site-packages (from python-dateutil>=2.6.1->pandas)\n"
     ]
    }
   ],
   "source": [
    "import sys\n",
    "!{sys.executable} -m pip install tweepy\n",
    "!{sys.executable} -m pip install jsonpickle\n",
    "!{sys.executable} -m pip install matplotlib\n",
    "!{sys.executable} -m pip install seaborn\n",
    "!{sys.executable} -m pip install emoji\n",
    "!{sys.executable} -m pip install bs4\n",
    "!{sys.executable} -m pip install googletrans\n",
    "!{sys.executable} -m pip install textblob\n",
    "!{sys.executable} -m pip install pymongo\n",
    "!{sys.executable} -m pip install nltk\n",
    "!{sys.executable} -m pip install jsonpickle\n",
    "!{sys.executable} -m pip install pandas"
   ]
  },
  {
   "cell_type": "markdown",
   "metadata": {},
   "source": [
    "# Import Libraries"
   ]
  },
  {
   "cell_type": "code",
   "execution_count": 18,
   "metadata": {},
   "outputs": [],
   "source": [
    "import tweepy\n",
    "from tweepy import Stream\n",
    "from tweepy.streaming import StreamListener\n",
    "import csv\n",
    "import json\n",
    "import datetime\n",
    "from datetime import datetime\n",
    "import jsonpickle\n",
    "import pandas as pd\n",
    "import numpy as np\n",
    "import seaborn as sns\n",
    "import matplotlib.pyplot as plt\n",
    "from pymongo import MongoClient\n",
    "from textblob import TextBlob\n",
    "from bs4 import BeautifulSoup\n",
    "import re\n",
    "import string\n",
    "from googletrans import Translator\n",
    "import emoji\n",
    "from collections import Counter\n",
    "from io import BytesIO"
   ]
  },
  {
   "cell_type": "markdown",
   "metadata": {},
   "source": [
    "# MONGODB host setup and Twitter authentication :"
   ]
  },
  {
   "cell_type": "code",
   "execution_count": null,
   "metadata": {},
   "outputs": [],
   "source": [
    "MONGO_HOST = 'mongodb://localhost/mydb'"
   ]
  },
  {
   "cell_type": "code",
   "execution_count": 20,
   "metadata": {},
   "outputs": [],
   "source": [
    "twitter_cred = dict()\n"
   ]
  },
  {
   "cell_type": "code",
   "execution_count": 21,
   "metadata": {},
   "outputs": [],
   "source": [
    "twitter_cred['CONSUMER KEY'] = 'UPeI5WvTfpJPBUBxmk0pqJv0p'\n",
    "twitter_cred['CONSUMER_SECRET'] = 'VtRNMpaYVU36Ztfiu5wU4Yk7qBu1r5h4Gi1jaZAD21fA1UYB9Q'\n",
    "twitter_cred['ACCESS KEY'] = '1175127666577592323-oVohjZ7E6cdIePo4G7zP3SDvIDktWj'\n",
    "twitter_cred['ACCESS_SECRET'] = 'XHfu50AydSPWE9MRCpznNC0HkoFKIiZmSzmw51PoOrikS'"
   ]
  },
  {
   "cell_type": "code",
   "execution_count": 22,
   "metadata": {},
   "outputs": [],
   "source": [
    "with open('twitter_credentials.json','w') as secret_info:\n",
    "    json.dump(twitter_cred, secret_info, indent = 4, sort_keys= True)"
   ]
  },
  {
   "cell_type": "code",
   "execution_count": 23,
   "metadata": {},
   "outputs": [
    {
     "name": "stdout",
     "output_type": "stream",
     "text": [
      "{'ACCESS KEY': '1175127666577592323-oVohjZ7E6cdIePo4G7zP3SDvIDktWj', 'ACCESS_SECRET': 'XHfu50AydSPWE9MRCpznNC0HkoFKIiZmSzmw51PoOrikS', 'CONSUMER KEY': 'UPeI5WvTfpJPBUBxmk0pqJv0p', 'CONSUMER_SECRET': 'VtRNMpaYVU36Ztfiu5wU4Yk7qBu1r5h4Gi1jaZAD21fA1UYB9Q'}\n"
     ]
    }
   ],
   "source": [
    "with open('twitter_credentials.json') as cred_data:\n",
    "    info = json.load(cred_data)\n",
    "    print(info)\n",
    "    consumer_key = info[\"CONSUMER KEY\"]\n",
    "    consumer_secret = info[\"CONSUMER_SECRET\"]\n",
    "    access_key = info[\"ACCESS KEY\"]\n",
    "    access_secret = info[\"ACCESS_SECRET\"]"
   ]
  },
  {
   "cell_type": "code",
   "execution_count": 24,
   "metadata": {},
   "outputs": [],
   "source": [
    "auth = tweepy.OAuthHandler(consumer_key,consumer_secret)\n",
    "auth.set_access_token(access_key,access_secret)\n",
    "api = tweepy.API(auth)"
   ]
  },
  {
   "cell_type": "markdown",
   "metadata": {},
   "source": [
    "# Streamline live tweets"
   ]
  },
  {
   "cell_type": "code",
   "execution_count": 20,
   "metadata": {},
   "outputs": [],
   "source": [
    "class MyListener(StreamListener):\n",
    "\n",
    "    def on_data(self, data):\n",
    "        try:\n",
    "            client=MongoClient(MONGO_HOST)\n",
    "            db = client.twitterdb\n",
    "            datajson = json.loads(data)\n",
    "            created_at = datajson['created_at']\n",
    "            print(\"tweet collected at\"+ str(created_at))\n",
    "            db.twitter_search.insert(datajson)\n",
    "            #with open('race.json', 'a') as f:\n",
    "                #f.write(data)\n",
    "            return True\n",
    "        except BaseException as e:\n",
    "            print(\"Error on_data: %s\" % str(e))\n",
    "        return True\n",
    "\n",
    "    def on_error(self, status):\n",
    "        print(status)\n",
    "        return True\n",
    "\n",
    "twitter_stream = Stream(auth, MyListener())\n",
    "twitter_stream.filter(track=['#Pochettino'])\n",
    "    \n",
    "\n",
    "   \n",
    "    \n",
    "   "
   ]
  },
  {
   "cell_type": "markdown",
   "metadata": {},
   "source": [
    "# Analysis of Data Collection System"
   ]
  },
  {
   "cell_type": "code",
   "execution_count": 25,
   "metadata": {},
   "outputs": [
    {
     "name": "stdout",
     "output_type": "stream",
     "text": [
      "Mon Oct 21 22:54:56 +0000 2019\n"
     ]
    }
   ],
   "source": [
    "client = MongoClient(MONGO_HOST)\n",
    "db = client.mydb\n",
    "collection = db.updated\n",
    "\n",
    "tweets_data = []\n",
    "count = 0\n",
    "\n",
    "for dat in collection.find():\n",
    "    if dat.get('created_at'):\n",
    "        tweets_data.append(dat.get(\"created_at\"))\n",
    "\n",
    "print(tweets_data[0])"
   ]
  },
  {
   "cell_type": "markdown",
   "metadata": {},
   "source": [
    "# Conversion of date and time of tweets to python Datetime format"
   ]
  },
  {
   "cell_type": "code",
   "execution_count": 26,
   "metadata": {},
   "outputs": [
    {
     "name": "stdout",
     "output_type": "stream",
     "text": [
      "2019-10-21\n"
     ]
    }
   ],
   "source": [
    "dt = []\n",
    "from datetime import datetime\n",
    "for i in tweets_data:\n",
    "    d = datetime.strptime(i,'%a %b %d %H:%M:%S %z %Y')\n",
    "    dt.append(d.strftime('%Y-%m-%d'))\n",
    "\n",
    "print(dt[0])"
   ]
  },
  {
   "cell_type": "markdown",
   "metadata": {},
   "source": [
    "# Plot of Data Collection"
   ]
  },
  {
   "cell_type": "code",
   "execution_count": 27,
   "metadata": {},
   "outputs": [
    {
     "name": "stdout",
     "output_type": "stream",
     "text": [
      "          date   count\n",
      "0   2019-10-21     159\n",
      "1   2019-10-22   39938\n",
      "2   2019-10-23   88330\n",
      "3   2019-10-24   47313\n",
      "4   2019-10-25   13593\n",
      "5   2019-10-26    7428\n",
      "6   2019-10-27    8360\n",
      "7   2019-10-28    1670\n",
      "8   2019-10-29     738\n",
      "9   2019-11-08    2699\n",
      "10  2019-11-09   27220\n",
      "11  2019-11-10  247699\n",
      "12  2019-11-11    8959\n",
      "13  2019-11-19   16362\n",
      "14  2019-11-20     295\n"
     ]
    },
    {
     "data": {
      "image/png": "[encoded data removed]",
      "text/plain": [
       "<Figure size 432x288 with 1 Axes>"
      ]
     },
     "metadata": {
      "needs_background": "light"
     },
     "output_type": "display_data"
    }
   ],
   "source": [
    "X,Y = np.unique(dt, return_counts=True)\n",
    "dataset = pd.DataFrame({'date': X, 'count': list(Y)}, columns=['date', 'count'])\n",
    "dataset.sort_values(by=['date'])\n",
    "print(dataset)\n",
    "plt.plot(dataset['date'],dataset['count'])\n",
    "plt.xticks(rotation=45)\n",
    "plt.title('Data Collection')\n",
    "plt.xlabel('Date')\n",
    "plt.ylabel('No of Tweets')\n",
    "\n",
    "plt.show()"
   ]
  },
  {
   "cell_type": "markdown",
   "metadata": {},
   "source": [
    "# Analysis of popularity of EPL in other countries by extracting the language field of tweets"
   ]
  },
  {
   "cell_type": "code",
   "execution_count": 28,
   "metadata": {},
   "outputs": [
    {
     "name": "stdout",
     "output_type": "stream",
     "text": [
      "<class 'pymongo.collection.Collection'>\n",
      "<class 'pymongo.command_cursor.CommandCursor'>\n",
      "{'_id': 'en', 'count': 150913}\n",
      "{'_id': 'es', 'count': 14077}\n",
      "{'_id': 'und', 'count': 12255}\n",
      "{'_id': 'pt', 'count': 8130}\n",
      "{'_id': 'tr', 'count': 6213}\n",
      "{'_id': 'it', 'count': 5128}\n",
      "{'_id': 'fr', 'count': 4911}\n",
      "{'_id': 'in', 'count': 3034}\n",
      "{'_id': 'ar', 'count': 2389}\n",
      "{'_id': 'de', 'count': 2253}\n",
      "{'_id': 'ja', 'count': 1775}\n",
      "{'_id': 'nl', 'count': 1196}\n",
      "{'_id': 'ca', 'count': 849}\n",
      "{'_id': 'tl', 'count': 689}\n",
      "{'_id': 'ht', 'count': 547}\n",
      "{'_id': 'fi', 'count': 539}\n",
      "{'_id': 'ro', 'count': 473}\n",
      "{'_id': 'ru', 'count': 417}\n",
      "{'_id': 'th', 'count': 401}\n",
      "{'_id': 'pl', 'count': 372}\n",
      "{'_id': 'zh', 'count': 315}\n",
      "{'_id': 'no', 'count': 247}\n",
      "{'_id': 'el', 'count': 179}\n",
      "{'_id': 'et', 'count': 177}\n",
      "{'_id': 'sv', 'count': 172}\n",
      "{'_id': 'da', 'count': 141}\n",
      "{'_id': 'cs', 'count': 115}\n",
      "{'_id': 'lt', 'count': 90}\n",
      "{'_id': 'ko', 'count': 75}\n",
      "{'_id': 'cy', 'count': 70}\n",
      "{'_id': 'hu', 'count': 66}\n",
      "{'_id': 'sl', 'count': 65}\n",
      "{'_id': 'eu', 'count': 54}\n",
      "{'_id': 'hi', 'count': 48}\n",
      "{'_id': 'sr', 'count': 45}\n",
      "{'_id': 'is', 'count': 21}\n",
      "{'_id': 'lv', 'count': 19}\n",
      "{'_id': 'uk', 'count': 17}\n",
      "{'_id': 'fa', 'count': 16}\n",
      "{'_id': 'iw', 'count': 13}\n",
      "{'_id': 'vi', 'count': 9}\n",
      "{'_id': 'ur', 'count': 6}\n",
      "{'_id': 'bg', 'count': 4}\n",
      "{'_id': 'ka', 'count': 3}\n",
      "{'_id': 'ta', 'count': 1}\n",
      "{'_id': 'ml', 'count': 1}\n",
      "{'_id': 'te', 'count': 1}\n",
      "[{'_id': 'en', 'count': 150913}, {'_id': 'es', 'count': 14077}, {'_id': 'und', 'count': 12255}, {'_id': 'pt', 'count': 8130}, {'_id': 'tr', 'count': 6213}, {'_id': 'it', 'count': 5128}, {'_id': 'fr', 'count': 4911}, {'_id': 'in', 'count': 3034}, {'_id': 'ar', 'count': 2389}, {'_id': 'de', 'count': 2253}, {'_id': 'ja', 'count': 1775}, {'_id': 'nl', 'count': 1196}, {'_id': 'ca', 'count': 849}, {'_id': 'tl', 'count': 689}, {'_id': 'ht', 'count': 547}, {'_id': 'fi', 'count': 539}, {'_id': 'ro', 'count': 473}, {'_id': 'ru', 'count': 417}, {'_id': 'th', 'count': 401}, {'_id': 'pl', 'count': 372}, {'_id': 'zh', 'count': 315}, {'_id': 'no', 'count': 247}, {'_id': 'el', 'count': 179}, {'_id': 'et', 'count': 177}, {'_id': 'sv', 'count': 172}, {'_id': 'da', 'count': 141}, {'_id': 'cs', 'count': 115}, {'_id': 'lt', 'count': 90}, {'_id': 'ko', 'count': 75}, {'_id': 'cy', 'count': 70}, {'_id': 'hu', 'count': 66}, {'_id': 'sl', 'count': 65}, {'_id': 'eu', 'count': 54}, {'_id': 'hi', 'count': 48}, {'_id': 'sr', 'count': 45}, {'_id': 'is', 'count': 21}, {'_id': 'lv', 'count': 19}, {'_id': 'uk', 'count': 17}, {'_id': 'fa', 'count': 16}, {'_id': 'iw', 'count': 13}, {'_id': 'vi', 'count': 9}, {'_id': 'ur', 'count': 6}, {'_id': 'bg', 'count': 4}, {'_id': 'ka', 'count': 3}, {'_id': 'ta', 'count': 1}, {'_id': 'ml', 'count': 1}, {'_id': 'te', 'count': 1}]\n",
      "   _id  count\n",
      "1   es  14077\n",
      "2  und  12255\n",
      "3   pt   8130\n",
      "4   tr   6213\n",
      "5   it   5128\n"
     ]
    },
    {
     "data": {
      "text/plain": [
       "<matplotlib.axes._subplots.AxesSubplot at 0x7f7be77d5358>"
      ]
     },
     "execution_count": 28,
     "metadata": {},
     "output_type": "execute_result"
    },
    {
     "data": {
      "image/png": "[encoded data removed]",
      "text/plain": [
       "<Figure size 432x288 with 1 Axes>"
      ]
     },
     "metadata": {
      "needs_background": "light"
     },
     "output_type": "display_data"
    }
   ],
   "source": [
    "client = MongoClient(MONGO_HOST)\n",
    "db = client.mydb\n",
    "#sam = db.tweets.find_one({'text'})\n",
    "print(type(db.tweets))\n",
    "data = db.tweets.aggregate(\n",
    "[\n",
    "{\n",
    "    '$group':{\n",
    "        #'$lang' : { '$sum':1}\n",
    "        '_id': '$lang',\n",
    "        \"count\": {'$sum':1}\n",
    "    }},\n",
    "    \n",
    "    {\"$sort\": {\n",
    "     #\"count\"\"\n",
    "     \"count\":-1\n",
    "    }}\n",
    "\n",
    "])\n",
    "\n",
    "print(type(data))\n",
    "d = []\n",
    "for i in data:\n",
    "    print(i)\n",
    "    d.append(i)\n",
    "print(d)\n",
    "df = pd.DataFrame(d)\n",
    "dg = df[1:6]\n",
    "print(dg)\n",
    "dg.plot(kind='bar',x='_id',y='count')\n",
    "\n",
    "\n"
   ]
  },
  {
   "cell_type": "markdown",
   "metadata": {},
   "source": [
    "# Analysis of popularity of EPL in other countries using the locations of users"
   ]
  },
  {
   "cell_type": "code",
   "execution_count": 29,
   "metadata": {
    "scrolled": true
   },
   "outputs": [
    {
     "name": "stdout",
     "output_type": "stream",
     "text": [
      "<class 'pymongo.collection.Collection'>\n",
      "          city   country  count\n",
      "1        Lagos   Nigeria   2244\n",
      "2       London   England   1933\n",
      "3      Nigeria       NaN   1608\n",
      "4  Los Angeles        CA   1310\n",
      "5      Nairobi     Kenya   1088\n",
      "          city   country  count\n",
      "1        Lagos   Nigeria   2244\n",
      "2       London   England   1933\n",
      "3          NaN   Nigeria   1608\n",
      "4  Los Angeles        CA   1310\n",
      "5      Nairobi     Kenya   1088\n",
      "                city  country  count\n",
      "89               NaN  England    157\n",
      "746        Liverpool  England     23\n",
      "4274          London  England      4\n",
      "8725    North London  England      2\n",
      "14548     Manchattan  England      1\n",
      "30721      Cambridge  England      1\n",
      "31894  Isle of wight  England      1\n",
      "36896         london  England      1\n",
      "39734         Durham  England      1\n"
     ]
    }
   ],
   "source": [
    "client = MongoClient(MONGO_HOST)\n",
    "db = client.mydb\n",
    "print(type(db.tweets))\n",
    "data = db.tweets.aggregate(\n",
    "[\n",
    "{\n",
    "    '$group':{\n",
    "        \n",
    "        '_id': '$user.location',\n",
    "        \"count\": {'$sum':1}\n",
    "    }},\n",
    "    \n",
    "    {\"$sort\": {\n",
    "     \n",
    "     \"count\":-1\n",
    "    }}\n",
    "\n",
    "])\n",
    "c = []\n",
    "for i in data:\n",
    "    c.append(i)\n",
    "c1 = [x for x in c if x is not None]\n",
    "\n",
    "df1 = pd.DataFrame(c1)\n",
    "df1 = df1.dropna()\n",
    "\n",
    "df1.columns = ['loc','count']\n",
    "\n",
    "df2 = df1['loc'].apply(lambda x: pd.Series(x.split(',')))\n",
    "df2 = df2.drop(df2.columns[[2,3,4,5,6]],axis=1)\n",
    "\n",
    "df2['count'] = df1['count']\n",
    "\n",
    "df2.columns = ['city','country','count']\n",
    "\n",
    "print(df2.head())\n",
    "\"\"\"Handling null values in country field and switching the city values to country values if country \n",
    "values are missing\"\"\"\n",
    "null_idx = df2['country'].isnull()          \n",
    "df2.loc[null_idx,'country'] = df2['city']\n",
    "df2.loc[null_idx,'city'] = np.nan\n",
    "print(df2.head())\n",
    "print(df2.loc[df2['country']=='England'])\n"
   ]
  },
  {
   "cell_type": "markdown",
   "metadata": {},
   "source": [
    "# Strip whitespace and plot the output"
   ]
  },
  {
   "cell_type": "code",
   "execution_count": 30,
   "metadata": {},
   "outputs": [
    {
     "name": "stdout",
     "output_type": "stream",
     "text": [
      "                  city  country  count\n",
      "2               London  England   1933\n",
      "21          Manchester  England    428\n",
      "41           Liverpool  England    268\n",
      "76     Stamford Bridge  England    180\n",
      "89                 NaN  England    157\n",
      "...                ...      ...    ...\n",
      "41795          Wisbech  England      1\n",
      "41817          Rushden  England      1\n",
      "42055   Great Yarmouth  England      1\n",
      "42058     West Sussex   England      1\n",
      "42124          Hindley  England      1\n",
      "\n",
      "[454 rows x 3 columns]\n",
      "                           country  count\n",
      "0                          Nigeria   6491\n",
      "1                          England   5238\n",
      "2                               CA   3813\n",
      "3                              USA   3572\n",
      "4                         Portugal   2395\n",
      "...                            ...    ...\n",
      "29325                On the toilet      1\n",
      "29326  On the top of an Iroko tree      1\n",
      "29327               On the world 🌎      1\n",
      "29328        On top of my world...      1\n",
      "29329                            🧠      1\n",
      "\n",
      "[29330 rows x 2 columns]\n"
     ]
    },
    {
     "data": {
      "image/png": "[encoded data removed]",
      "text/plain": [
       "<Figure size 432x288 with 1 Axes>"
      ]
     },
     "metadata": {
      "needs_background": "light"
     },
     "output_type": "display_data"
    }
   ],
   "source": [
    "df2[\"country\"] = df2[\"country\"].str.strip()\n",
    "print(df2.loc[df2['country']=='England'])\n",
    "#print(df2.loc[df2['country']=='Nigeria'])\n",
    "df3 = df2.groupby(['country'])['count'].sum()\n",
    "\n",
    "df4 = df3.sort_values(ascending=False)\n",
    "df4 = pd.DataFrame({'country':df4.index,'count':df4.values})\n",
    "print(df4)\n",
    "ax = sns.barplot(x='count',y='country',data = df4.head())"
   ]
  },
  {
   "cell_type": "markdown",
   "metadata": {},
   "source": [
    "# Extract text and language fields of the tweets"
   ]
  },
  {
   "cell_type": "code",
   "execution_count": 31,
   "metadata": {},
   "outputs": [
    {
     "name": "stdout",
     "output_type": "stream",
     "text": [
      "U guys suck! @LFC you can't beat the weakest @ManUtd team in history with the best team in your lame ass history😂😂😂… https://t.co/HZPrd9Ow89\n",
      "en\n"
     ]
    }
   ],
   "source": [
    "client = MongoClient(MONGO_HOST)\n",
    "db = client.mydb\n",
    "collection = db.updated\n",
    "\n",
    "from textblob import TextBlob\n",
    "import re\n",
    "textSentiment = []\n",
    "language = []\n",
    "for record in db.updated.find():\n",
    "    if record.get('text'):\n",
    "        textSentiment.append(record.get(\"text\"))\n",
    "    if record.get('lang'):\n",
    "        language.append(record.get(\"lang\"))\n",
    "print(textSentiment[0])\n",
    "print(language[1])"
   ]
  },
  {
   "cell_type": "code",
   "execution_count": 32,
   "metadata": {},
   "outputs": [
    {
     "name": "stdout",
     "output_type": "stream",
     "text": [
      "510763\n"
     ]
    }
   ],
   "source": [
    "print(len(textSentiment))"
   ]
  },
  {
   "cell_type": "markdown",
   "metadata": {},
   "source": [
    "# Drop tweets other than English"
   ]
  },
  {
   "cell_type": "code",
   "execution_count": 33,
   "metadata": {},
   "outputs": [
    {
     "data": {
      "text/plain": [
       "(370748, 2)"
      ]
     },
     "execution_count": 33,
     "metadata": {},
     "output_type": "execute_result"
    }
   ],
   "source": [
    "s = pd.DataFrame(textSentiment)\n",
    "s['lang'] = language\n",
    "s.columns = ['text','lang']\n",
    "s.head()\n",
    "r = s[s['lang']!='und']\n",
    "r = r[r['lang']=='en']\n",
    "r.shape"
   ]
  },
  {
   "cell_type": "markdown",
   "metadata": {},
   "source": [
    "# Group hashtags"
   ]
  },
  {
   "cell_type": "code",
   "execution_count": 34,
   "metadata": {},
   "outputs": [],
   "source": [
    "def get_hashtags(text):\n",
    "    token_l = []\n",
    "    emoticons_str = r'(?:[:=;][oO\\-]?[D\\)\\]\\(\\]/\\\\OpP])'\n",
    "    tokens_str = [emoticons_str, r'(?:@[\\w_]+)', r'(?:\\#+[\\w_]+[\\w\\'_\\-]*[\\w_]+)',  # emoticons, @s, hash-tags\n",
    "              r'http[s]?://(?:[a-z]|[0-9]|[$-_@.&amp;+]|[!*\\(\\),]|(?:%[0-9a-f][0-9a-f]))+',  # links\n",
    "              r'(?:(?:\\d+,?)+(?:\\.?\\d+)?)', r\"(?:[a-z][a-z'\\-_]+[a-z])\",  # numbers, hyphenated words\n",
    "              r'(?:[\\w_]+)',  r'(?:\\S)'] \n",
    "    tokens_re = re.compile(r'(' + '|'.join(tokens_str) + ')', re.IGNORECASE)\n",
    "    tokens = tokens_re.findall(text)\n",
    "    for t in tokens:\n",
    "        token_l.append(t)\n",
    "    tags = []\n",
    "    for i in token_l:\n",
    "        if i.startswith('#'):\n",
    "            tags.append(i)\n",
    "    return tags"
   ]
  },
  {
   "cell_type": "markdown",
   "metadata": {},
   "source": [
    "# Plot of the most popular hashtag"
   ]
  },
  {
   "cell_type": "code",
   "execution_count": 35,
   "metadata": {},
   "outputs": [
    {
     "data": {
      "image/png": "[encoded data removed]",
      "text/plain": [
       "<Figure size 432x288 with 1 Axes>"
      ]
     },
     "metadata": {},
     "output_type": "display_data"
    }
   ],
   "source": [
    "words = []\n",
    "data = r['text']\n",
    "for tweet in data:\n",
    "    new_words = get_hashtags(tweet)\n",
    "    words.extend(new_words)\n",
    "\n",
    "counter = Counter()\n",
    "counter.update(words)\n",
    "df = pd.DataFrame(counter.most_common(10), columns=['Term', 'Number of Occurrences'])\n",
    "plt.style.use('ggplot')\n",
    "plot = sns.barplot(x='Term', y='Number of Occurrences', data=df, color='blue')\n",
    "plot.set_title('Occurrences of Most Frequent Hashtags')\n",
    "for label in plot.get_xticklabels():\n",
    "    label.set_rotation(90)\n",
    "\n",
    "plt.gcf().subplots_adjust(bottom=0.2)\n",
    "plt.show()"
   ]
  },
  {
   "cell_type": "markdown",
   "metadata": {},
   "source": [
    "# Removal of links,mentions,hashtags,whitespaces from the tweet text"
   ]
  },
  {
   "cell_type": "code",
   "execution_count": 36,
   "metadata": {},
   "outputs": [
    {
     "name": "stdout",
     "output_type": "stream",
     "text": [
      "U guys suck you can t beat the weakest team in history with the best team in your lame ass history😂😂😂…\n"
     ]
    },
    {
     "data": {
      "text/plain": [
       "(370748, 1)"
      ]
     },
     "execution_count": 36,
     "metadata": {},
     "output_type": "execute_result"
    }
   ],
   "source": [
    "#tweet.shape\n",
    "#tweet.tail()\n",
    "def strip_links(text):\n",
    "    link_regex    = re.compile('((https?):((//)|(\\\\\\\\))+([\\w\\d:#@%/;$()~_?\\+-=\\\\\\.&](#!)?)*)', re.DOTALL)\n",
    "    links         = re.findall(link_regex, text)\n",
    "    for link in links:\n",
    "        text = text.replace(link[0], ', ')    \n",
    "    return text\n",
    "def strip_all_entities(text):\n",
    "    entity_prefixes = ['@','#']\n",
    "    for separator in  string.punctuation:\n",
    "        if separator not in entity_prefixes :\n",
    "            text = text.replace(separator,' ')\n",
    "    words = []\n",
    "    for word in text.split():\n",
    "        word = word.strip()\n",
    "        if word:\n",
    "            if word[0] not in entity_prefixes:\n",
    "                words.append(word)\n",
    "    return ' '.join(words)\n",
    "l = []\n",
    "for t in r['text']:\n",
    "    l.append(strip_all_entities(strip_links(t)))\n",
    "    \n",
    "print(l[0])\n",
    "\n",
    "\n",
    "df = pd.DataFrame(l)\n",
    "df.shape\n",
    "#tweet['tweets'] = re.sub(r'https?:\\/\\/.*[\\r\\n]*', '', tweet['tweets'], flags=re.MULTILINE)"
   ]
  },
  {
   "cell_type": "markdown",
   "metadata": {},
   "source": [
    "# Removal of retweets"
   ]
  },
  {
   "cell_type": "code",
   "execution_count": 37,
   "metadata": {},
   "outputs": [
    {
     "data": {
      "text/plain": [
       "(123688, 1)"
      ]
     },
     "execution_count": 37,
     "metadata": {},
     "output_type": "execute_result"
    }
   ],
   "source": [
    "df.shape\n",
    "df = df[~df[0].str.startswith('RT')]\n",
    "df.head()\n",
    "#trans = []\n",
    "df[0] = df[0].str.strip()\n",
    "df[0].iloc[0]\n",
    "df.shape\n"
   ]
  },
  {
   "cell_type": "markdown",
   "metadata": {},
   "source": [
    "# Change of tweets to lowercase"
   ]
  },
  {
   "cell_type": "code",
   "execution_count": 38,
   "metadata": {},
   "outputs": [
    {
     "data": {
      "text/plain": [
       "(123688, 1)"
      ]
     },
     "execution_count": 38,
     "metadata": {},
     "output_type": "execute_result"
    }
   ],
   "source": [
    "df[0] = df[0].str.lower()\n",
    "df.head()\n",
    "df.shape"
   ]
  },
  {
   "cell_type": "markdown",
   "metadata": {},
   "source": [
    "# Removal of emojis"
   ]
  },
  {
   "cell_type": "code",
   "execution_count": 39,
   "metadata": {},
   "outputs": [],
   "source": [
    "def give_emoji_free_text(text):\n",
    "    return emoji.get_emoji_regexp().sub(r'', text)"
   ]
  },
  {
   "cell_type": "code",
   "execution_count": 40,
   "metadata": {},
   "outputs": [],
   "source": [
    "e = []\n",
    "for i in df[0]:\n",
    "    e.append(give_emoji_free_text(i))"
   ]
  },
  {
   "cell_type": "code",
   "execution_count": 41,
   "metadata": {},
   "outputs": [
    {
     "name": "stdout",
     "output_type": "stream",
     "text": [
      "123688\n"
     ]
    }
   ],
   "source": [
    "print(len(e))"
   ]
  },
  {
   "cell_type": "code",
   "execution_count": 42,
   "metadata": {},
   "outputs": [],
   "source": [
    "fl = pd.DataFrame(e)"
   ]
  },
  {
   "cell_type": "code",
   "execution_count": 43,
   "metadata": {
    "scrolled": true
   },
   "outputs": [
    {
     "name": "stdout",
     "output_type": "stream",
     "text": [
      "                                                        0\n",
      "count                                              123688\n",
      "unique                                             112449\n",
      "top     live 2 0 liverpool vs manchester city live str...\n",
      "freq                                                  132\n"
     ]
    },
    {
     "data": {
      "text/html": [
       "<div>\n",
       "<style scoped>\n",
       "    .dataframe tbody tr th:only-of-type {\n",
       "        vertical-align: middle;\n",
       "    }\n",
       "\n",
       "    .dataframe tbody tr th {\n",
       "        vertical-align: top;\n",
       "    }\n",
       "\n",
       "    .dataframe thead th {\n",
       "        text-align: right;\n",
       "    }\n",
       "</style>\n",
       "<table border=\"1\" class=\"dataframe\">\n",
       "  <thead>\n",
       "    <tr style=\"text-align: right;\">\n",
       "      <th></th>\n",
       "      <th>0</th>\n",
       "    </tr>\n",
       "  </thead>\n",
       "  <tbody>\n",
       "    <tr>\n",
       "      <th>0</th>\n",
       "      <td>u guys suck you can t beat the weakest team in...</td>\n",
       "    </tr>\n",
       "    <tr>\n",
       "      <th>1</th>\n",
       "      <td>that s me</td>\n",
       "    </tr>\n",
       "    <tr>\n",
       "      <th>2</th>\n",
       "      <td>the happy one</td>\n",
       "    </tr>\n",
       "    <tr>\n",
       "      <th>3</th>\n",
       "      <td>you all should bow down to the great and almig...</td>\n",
       "    </tr>\n",
       "    <tr>\n",
       "      <th>4</th>\n",
       "      <td>let s talk about how sadio mane was pulling la...</td>\n",
       "    </tr>\n",
       "  </tbody>\n",
       "</table>\n",
       "</div>"
      ],
      "text/plain": [
       "                                                   0\n",
       "0  u guys suck you can t beat the weakest team in...\n",
       "1                                          that s me\n",
       "2                                      the happy one\n",
       "3  you all should bow down to the great and almig...\n",
       "4  let s talk about how sadio mane was pulling la..."
      ]
     },
     "execution_count": 43,
     "metadata": {},
     "output_type": "execute_result"
    }
   ],
   "source": [
    "print(fl.describe())\n",
    "fl.head()"
   ]
  },
  {
   "cell_type": "markdown",
   "metadata": {},
   "source": [
    "# Filter for tweets with keyword"
   ]
  },
  {
   "cell_type": "code",
   "execution_count": 44,
   "metadata": {},
   "outputs": [
    {
     "name": "stdout",
     "output_type": "stream",
     "text": [
      "(214, 1)\n"
     ]
    }
   ],
   "source": [
    "m = []\n",
    "for i in fl[0]:\n",
    "    \n",
    "    if 'rodgers' in i:\n",
    "        m.append(i)\n",
    "\n",
    "m = pd.DataFrame(m)\n",
    "print(m.shape)"
   ]
  },
  {
   "cell_type": "markdown",
   "metadata": {},
   "source": [
    "# Visualization of the sentiment for a particular player and manager"
   ]
  },
  {
   "cell_type": "code",
   "execution_count": 45,
   "metadata": {
    "scrolled": true
   },
   "outputs": [
    {
     "name": "stderr",
     "output_type": "stream",
     "text": [
      "[nltk_data] Downloading package vader_lexicon to\n",
      "[nltk_data]     /home/PODS/apadman1/nltk_data...\n",
      "[nltk_data]   Package vader_lexicon is already up-to-date!\n"
     ]
    },
    {
     "data": {
      "text/html": [
       "<div>\n",
       "<style scoped>\n",
       "    .dataframe tbody tr th:only-of-type {\n",
       "        vertical-align: middle;\n",
       "    }\n",
       "\n",
       "    .dataframe tbody tr th {\n",
       "        vertical-align: top;\n",
       "    }\n",
       "\n",
       "    .dataframe thead th {\n",
       "        text-align: right;\n",
       "    }\n",
       "</style>\n",
       "<table border=\"1\" class=\"dataframe\">\n",
       "  <thead>\n",
       "    <tr style=\"text-align: right;\">\n",
       "      <th></th>\n",
       "      <th>0</th>\n",
       "      <th>sentiment_compound_polarity</th>\n",
       "      <th>sentiment_neutral</th>\n",
       "      <th>sentiment_negative</th>\n",
       "      <th>sentiment_pos</th>\n",
       "      <th>sentiment_type</th>\n",
       "    </tr>\n",
       "  </thead>\n",
       "  <tbody>\n",
       "    <tr>\n",
       "      <th>0</th>\n",
       "      <td>facts espn does that with lbj zion mahomes rodgers all of em</td>\n",
       "      <td>0.0000</td>\n",
       "      <td>1.000</td>\n",
       "      <td>0.000</td>\n",
       "      <td>0.000</td>\n",
       "      <td>NEUTRAL</td>\n",
       "    </tr>\n",
       "    <tr>\n",
       "      <th>1</th>\n",
       "      <td>rodgers lakers are in conference finals bro if not nba this tweet</td>\n",
       "      <td>0.0000</td>\n",
       "      <td>1.000</td>\n",
       "      <td>0.000</td>\n",
       "      <td>0.000</td>\n",
       "      <td>NEUTRAL</td>\n",
       "    </tr>\n",
       "    <tr>\n",
       "      <th>2</th>\n",
       "      <td>rodgers not really its either lakers or clippers in the west gsw is question portland…</td>\n",
       "      <td>0.0000</td>\n",
       "      <td>1.000</td>\n",
       "      <td>0.000</td>\n",
       "      <td>0.000</td>\n",
       "      <td>NEUTRAL</td>\n",
       "    </tr>\n",
       "    <tr>\n",
       "      <th>3</th>\n",
       "      <td>you people will collect shege from rodgers i just need luiz sokratis niles and kolasinac to start a decent 4 …</td>\n",
       "      <td>0.0000</td>\n",
       "      <td>1.000</td>\n",
       "      <td>0.000</td>\n",
       "      <td>0.000</td>\n",
       "      <td>NEUTRAL</td>\n",
       "    </tr>\n",
       "    <tr>\n",
       "      <th>4</th>\n",
       "      <td>leicester are outstanding rodgers at his very best</td>\n",
       "      <td>0.8588</td>\n",
       "      <td>0.414</td>\n",
       "      <td>0.000</td>\n",
       "      <td>0.586</td>\n",
       "      <td>POSITIVE</td>\n",
       "    </tr>\n",
       "    <tr>\n",
       "      <th>5</th>\n",
       "      <td>no lies brendan rodgers is an amazing coach</td>\n",
       "      <td>-0.0516</td>\n",
       "      <td>0.362</td>\n",
       "      <td>0.362</td>\n",
       "      <td>0.275</td>\n",
       "      <td>NEGATIVE</td>\n",
       "    </tr>\n",
       "    <tr>\n",
       "      <th>6</th>\n",
       "      <td>review brendan rodgers is a better manager than unai emery</td>\n",
       "      <td>0.4404</td>\n",
       "      <td>0.734</td>\n",
       "      <td>0.000</td>\n",
       "      <td>0.266</td>\n",
       "      <td>POSITIVE</td>\n",
       "    </tr>\n",
       "    <tr>\n",
       "      <th>7</th>\n",
       "      <td>very very entertaining game this rodgers has leicester playing some lovely football and arsenal looking dangerou…</td>\n",
       "      <td>0.8431</td>\n",
       "      <td>0.589</td>\n",
       "      <td>0.000</td>\n",
       "      <td>0.411</td>\n",
       "      <td>POSITIVE</td>\n",
       "    </tr>\n",
       "    <tr>\n",
       "      <th>8</th>\n",
       "      <td>decent audition this by rodgers</td>\n",
       "      <td>0.0000</td>\n",
       "      <td>1.000</td>\n",
       "      <td>0.000</td>\n",
       "      <td>0.000</td>\n",
       "      <td>NEUTRAL</td>\n",
       "    </tr>\n",
       "    <tr>\n",
       "      <th>9</th>\n",
       "      <td>brendon rodgers football</td>\n",
       "      <td>0.0000</td>\n",
       "      <td>1.000</td>\n",
       "      <td>0.000</td>\n",
       "      <td>0.000</td>\n",
       "      <td>NEUTRAL</td>\n",
       "    </tr>\n",
       "    <tr>\n",
       "      <th>10</th>\n",
       "      <td>leicester play some incredible football at times brendan rodgers proving he’s a brilliant manager after all</td>\n",
       "      <td>0.7351</td>\n",
       "      <td>0.677</td>\n",
       "      <td>0.000</td>\n",
       "      <td>0.323</td>\n",
       "      <td>POSITIVE</td>\n",
       "    </tr>\n",
       "    <tr>\n",
       "      <th>11</th>\n",
       "      <td>vardy  brendan rodgers thank you for entertaining us man this resembles exactly like liverpool 13 14 season</td>\n",
       "      <td>0.7845</td>\n",
       "      <td>0.639</td>\n",
       "      <td>0.000</td>\n",
       "      <td>0.361</td>\n",
       "      <td>POSITIVE</td>\n",
       "    </tr>\n",
       "    <tr>\n",
       "      <th>12</th>\n",
       "      <td>brendan rodgers is a footballing mastermind</td>\n",
       "      <td>0.0000</td>\n",
       "      <td>1.000</td>\n",
       "      <td>0.000</td>\n",
       "      <td>0.000</td>\n",
       "      <td>NEUTRAL</td>\n",
       "    </tr>\n",
       "    <tr>\n",
       "      <th>13</th>\n",
       "      <td>how many passes before that goal great team goal epitomises rodgers’ approach quality</td>\n",
       "      <td>0.6249</td>\n",
       "      <td>0.745</td>\n",
       "      <td>0.000</td>\n",
       "      <td>0.255</td>\n",
       "      <td>POSITIVE</td>\n",
       "    </tr>\n",
       "    <tr>\n",
       "      <th>14</th>\n",
       "      <td>rodgers doing some job at leicester they are just great to watch</td>\n",
       "      <td>0.6249</td>\n",
       "      <td>0.728</td>\n",
       "      <td>0.000</td>\n",
       "      <td>0.272</td>\n",
       "      <td>POSITIVE</td>\n",
       "    </tr>\n",
       "    <tr>\n",
       "      <th>15</th>\n",
       "      <td>can manu please get brandon rodgers the football they are playing is too wavy</td>\n",
       "      <td>0.4767</td>\n",
       "      <td>0.745</td>\n",
       "      <td>0.000</td>\n",
       "      <td>0.255</td>\n",
       "      <td>POSITIVE</td>\n",
       "    </tr>\n",
       "    <tr>\n",
       "      <th>16</th>\n",
       "      <td>brendan rodgers doing bits leicester out “arsenaling” arsenal</td>\n",
       "      <td>0.0000</td>\n",
       "      <td>1.000</td>\n",
       "      <td>0.000</td>\n",
       "      <td>0.000</td>\n",
       "      <td>NEUTRAL</td>\n",
       "    </tr>\n",
       "    <tr>\n",
       "      <th>17</th>\n",
       "      <td>rodgers will have manager of the season wrapped up by xmas at this rate unbelievable football</td>\n",
       "      <td>0.2023</td>\n",
       "      <td>0.893</td>\n",
       "      <td>0.000</td>\n",
       "      <td>0.107</td>\n",
       "      <td>POSITIVE</td>\n",
       "    </tr>\n",
       "    <tr>\n",
       "      <th>18</th>\n",
       "      <td>what brendan rodgers is doing with leicester is quite remarkable what a fantastic coach jamie vardy keeps banging…</td>\n",
       "      <td>0.8297</td>\n",
       "      <td>0.659</td>\n",
       "      <td>0.000</td>\n",
       "      <td>0.341</td>\n",
       "      <td>POSITIVE</td>\n",
       "    </tr>\n",
       "    <tr>\n",
       "      <th>19</th>\n",
       "      <td>that brendan rodgers fella is some fraud you absolute jokers  rodgers style of football is a joy to watch s…</td>\n",
       "      <td>0.0000</td>\n",
       "      <td>0.691</td>\n",
       "      <td>0.154</td>\n",
       "      <td>0.154</td>\n",
       "      <td>NEUTRAL</td>\n",
       "    </tr>\n",
       "  </tbody>\n",
       "</table>\n",
       "</div>"
      ],
      "text/plain": [
       "                                                                                                                     0  \\\n",
       "0   facts espn does that with lbj zion mahomes rodgers all of em                                                         \n",
       "1   rodgers lakers are in conference finals bro if not nba this tweet                                                    \n",
       "2   rodgers not really its either lakers or clippers in the west gsw is question portland…                               \n",
       "3   you people will collect shege from rodgers i just need luiz sokratis niles and kolasinac to start a decent 4 …       \n",
       "4   leicester are outstanding rodgers at his very best                                                                   \n",
       "5   no lies brendan rodgers is an amazing coach                                                                          \n",
       "6   review brendan rodgers is a better manager than unai emery                                                           \n",
       "7   very very entertaining game this rodgers has leicester playing some lovely football and arsenal looking dangerou…    \n",
       "8   decent audition this by rodgers                                                                                      \n",
       "9   brendon rodgers football                                                                                             \n",
       "10  leicester play some incredible football at times brendan rodgers proving he’s a brilliant manager after all          \n",
       "11  vardy  brendan rodgers thank you for entertaining us man this resembles exactly like liverpool 13 14 season          \n",
       "12  brendan rodgers is a footballing mastermind                                                                          \n",
       "13  how many passes before that goal great team goal epitomises rodgers’ approach quality                                \n",
       "14  rodgers doing some job at leicester they are just great to watch                                                     \n",
       "15  can manu please get brandon rodgers the football they are playing is too wavy                                        \n",
       "16  brendan rodgers doing bits leicester out “arsenaling” arsenal                                                        \n",
       "17  rodgers will have manager of the season wrapped up by xmas at this rate unbelievable football                        \n",
       "18  what brendan rodgers is doing with leicester is quite remarkable what a fantastic coach jamie vardy keeps banging…   \n",
       "19  that brendan rodgers fella is some fraud you absolute jokers  rodgers style of football is a joy to watch s…         \n",
       "\n",
       "    sentiment_compound_polarity  sentiment_neutral  sentiment_negative  \\\n",
       "0   0.0000                       1.000              0.000                \n",
       "1   0.0000                       1.000              0.000                \n",
       "2   0.0000                       1.000              0.000                \n",
       "3   0.0000                       1.000              0.000                \n",
       "4   0.8588                       0.414              0.000                \n",
       "5  -0.0516                       0.362              0.362                \n",
       "6   0.4404                       0.734              0.000                \n",
       "7   0.8431                       0.589              0.000                \n",
       "8   0.0000                       1.000              0.000                \n",
       "9   0.0000                       1.000              0.000                \n",
       "10  0.7351                       0.677              0.000                \n",
       "11  0.7845                       0.639              0.000                \n",
       "12  0.0000                       1.000              0.000                \n",
       "13  0.6249                       0.745              0.000                \n",
       "14  0.6249                       0.728              0.000                \n",
       "15  0.4767                       0.745              0.000                \n",
       "16  0.0000                       1.000              0.000                \n",
       "17  0.2023                       0.893              0.000                \n",
       "18  0.8297                       0.659              0.000                \n",
       "19  0.0000                       0.691              0.154                \n",
       "\n",
       "    sentiment_pos sentiment_type  \n",
       "0   0.000          NEUTRAL        \n",
       "1   0.000          NEUTRAL        \n",
       "2   0.000          NEUTRAL        \n",
       "3   0.000          NEUTRAL        \n",
       "4   0.586          POSITIVE       \n",
       "5   0.275          NEGATIVE       \n",
       "6   0.266          POSITIVE       \n",
       "7   0.411          POSITIVE       \n",
       "8   0.000          NEUTRAL        \n",
       "9   0.000          NEUTRAL        \n",
       "10  0.323          POSITIVE       \n",
       "11  0.361          POSITIVE       \n",
       "12  0.000          NEUTRAL        \n",
       "13  0.255          POSITIVE       \n",
       "14  0.272          POSITIVE       \n",
       "15  0.255          POSITIVE       \n",
       "16  0.000          NEUTRAL        \n",
       "17  0.107          POSITIVE       \n",
       "18  0.341          POSITIVE       \n",
       "19  0.154          NEUTRAL        "
      ]
     },
     "execution_count": 45,
     "metadata": {},
     "output_type": "execute_result"
    }
   ],
   "source": [
    "#nltk.download('vader_lexicon')\n",
    "from nltk.sentiment.vader import SentimentIntensityAnalyzer\n",
    "from nltk.sentiment.util import*\n",
    "from nltk import tokenize\n",
    "nltk.download('vader_lexicon')\n",
    "sid = SentimentIntensityAnalyzer()\n",
    "\n",
    "m['sentiment_compound_polarity']=m[0].apply(lambda x:sid.polarity_scores(x)['compound'])\n",
    "m['sentiment_neutral']=m[0].apply(lambda x:sid.polarity_scores(x)['neu'])\n",
    "m['sentiment_negative']=m[0].apply(lambda x:sid.polarity_scores(x)['neg'])\n",
    "m['sentiment_pos']=m[0].apply(lambda x:sid.polarity_scores(x)['pos'])\n",
    "m['sentiment_type']=''\n",
    "m.loc[m.sentiment_compound_polarity>0,'sentiment_type']='POSITIVE'\n",
    "m.loc[m.sentiment_compound_polarity==0,'sentiment_type']='NEUTRAL'\n",
    "m.loc[m.sentiment_compound_polarity<0,'sentiment_type']='NEGATIVE'\n",
    "#m[m['sentiment_type']=='NEUTRAL']\n",
    "pd.options.display.max_rows\n",
    "pd.set_option('display.max_colwidth', -1)  \n",
    "m[0:20]\n"
   ]
  },
  {
   "cell_type": "markdown",
   "metadata": {},
   "source": [
    "# Plot of reactions"
   ]
  },
  {
   "cell_type": "code",
   "execution_count": 46,
   "metadata": {},
   "outputs": [
    {
     "data": {
      "text/plain": [
       "<matplotlib.axes._subplots.AxesSubplot at 0x7f7bb8055080>"
      ]
     },
     "execution_count": 46,
     "metadata": {},
     "output_type": "execute_result"
    },
    {
     "data": {
      "image/png": "[encoded data removed]",
      "text/plain": [
       "<Figure size 432x288 with 1 Axes>"
      ]
     },
     "metadata": {},
     "output_type": "display_data"
    }
   ],
   "source": [
    "m.sentiment_type.value_counts().plot(kind='bar',title=\"Emery - Sentiment Analysis\")"
   ]
  },
  {
   "cell_type": "markdown",
   "metadata": {},
   "source": [
    "# Analysis of sentiment between clubs and managers using TextBlob"
   ]
  },
  {
   "cell_type": "code",
   "execution_count": 47,
   "metadata": {},
   "outputs": [],
   "source": [
    "def get_polarity(s):\n",
    "    return TextBlob(s).sentiment.polarity"
   ]
  },
  {
   "cell_type": "code",
   "execution_count": 48,
   "metadata": {},
   "outputs": [],
   "source": [
    "fl['polarity'] = fl[0].apply(get_polarity)"
   ]
  },
  {
   "cell_type": "code",
   "execution_count": 49,
   "metadata": {},
   "outputs": [],
   "source": [
    "fl = fl.loc[fl['polarity']!=0]\n",
    "data_ar = fl[fl[0].str.contains('guardiola')]\n",
    "data_liv = fl[fl[0].str.contains('rodgers')]\n",
    "ars = data_ar['polarity'].values\n",
    "liv = data_liv['polarity'].values"
   ]
  },
  {
   "cell_type": "markdown",
   "metadata": {},
   "source": [
    "# Plot using TextBlob"
   ]
  },
  {
   "cell_type": "code",
   "execution_count": 50,
   "metadata": {},
   "outputs": [
    {
     "data": {
      "image/png": "[encoded data removed]",
      "text/plain": [
       "<Figure size 432x288 with 1 Axes>"
      ]
     },
     "metadata": {},
     "output_type": "display_data"
    }
   ],
   "source": [
    "fig = plt.figure()\n",
    "ax = fig.add_subplot(111)\n",
    "\n",
    "ax.hist([ars, liv], color=['red', 'blue'], label=['Manchester United', 'Tottenham Hotspur'])\n",
    "ax.legend(loc='upper left')\n",
    "ax.set_xlabel('Sentiment')\n",
    "ax.set_ylabel('Frequency')\n",
    "ax.set_title('Histogram of Sentiment Relating to Each Club')\n",
    "plt.show()"
   ]
  },
  {
   "cell_type": "markdown",
   "metadata": {},
   "source": [
    "# Analysis of Sentiment between Managers"
   ]
  },
  {
   "cell_type": "code",
   "execution_count": 51,
   "metadata": {},
   "outputs": [
    {
     "name": "stdout",
     "output_type": "stream",
     "text": [
      "Pep Guardiola:\n",
      "\n",
      "Positive tweets: 422\n",
      "Negative tweets: 159\n",
      "Percentage of tweets positive: 72.6%\n",
      "\n",
      "Brendan Rodgers:\n",
      "\n",
      "Positive tweets: 111\n",
      "Negative tweets: 27\n",
      "Percentage of tweets positive: 80.4%\n",
      "\n"
     ]
    }
   ],
   "source": [
    "a = data_ar['polarity']\n",
    "l = data_liv['polarity']\n",
    "ar_pos = a[a > 0].size\n",
    "ar_neg = a[a < 0].size\n",
    "liv_pos = l[l > 0].size\n",
    "liv_neg = l[l < 0].size\n",
    "\n",
    "print('Pep Guardiola:\\n')\n",
    "print('Positive tweets: ' + str(ar_pos))\n",
    "print('Negative tweets: ' + str(ar_neg))\n",
    "print('Percentage of tweets positive: ' + str(round((ar_pos/(ar_neg+ar_pos))*100, 1)) + '%\\n')\n",
    "\n",
    "print('Brendan Rodgers:\\n')\n",
    "print('Positive tweets: ' + str(liv_pos))\n",
    "print('Negative tweets: ' + str(liv_neg))\n",
    "print('Percentage of tweets positive: ' + str(round((liv_pos/(liv_neg+liv_pos))*100, 1)) + '%\\n')"
   ]
  }
 ],
 "metadata": {
  "kernelspec": {
   "display_name": "Python 3",
   "language": "python",
   "name": "python3"
  },
  "language_info": {
   "codemirror_mode": {
    "name": "ipython",
    "version": 3
   },
   "file_extension": ".py",
   "mimetype": "text/x-python",
   "name": "python",
   "nbconvert_exporter": "python",
   "pygments_lexer": "ipython3",
   "version": "3.6.3"
  }
 },
 "nbformat": 4,
 "nbformat_minor": 2
}
